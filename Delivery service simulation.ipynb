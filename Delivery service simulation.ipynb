{
 "cells": [
  {
   "cell_type": "code",
   "execution_count": 1,
   "metadata": {},
   "outputs": [],
   "source": [
    "import simpy\n",
    "import random\n",
    "import statistics"
   ]
  },
  {
   "cell_type": "markdown",
   "metadata": {},
   "source": [
    "Food delivery has become the norm in India. Ever since the pandemic started, more people are ordering from outside to avoid going out. Some restaurants have also launched their own delivery services, but it's hard to market your delivery service if you aren't a popular and big enough restaurant. So there are platforms like Zomato, Swiggy etc. which serve as a common platform allowing for customers to browse through and order from an extensive list of food outlets. These platforms also hire delivery executives to make sure people's food is delivered to their doorstep. One interesting problem in such scenario would be to find the optimal number of executives to hire, which would reduce the wait times experienced by customers during assigning of an executive to an order, whilst being within the budget. We will try to simulate this problem using the python library **simpy**, which lets us simulate real life processes like the one I just described."
   ]
  },
  {
   "cell_type": "markdown",
   "metadata": {},
   "source": [
    "**Goal**:: Find the optimal number of executives and staff which gives an average wait time of less than 15 minutes. This script can be used by the delivery service CEO to act hire these many people!"
   ]
  },
  {
   "cell_type": "code",
   "execution_count": 2,
   "metadata": {},
   "outputs": [],
   "source": [
    "wait_times = []"
   ]
  },
  {
   "cell_type": "code",
   "execution_count": 3,
   "metadata": {},
   "outputs": [],
   "source": [
    "# step 1. user requests an order from a restrau\n",
    "# 2. restrau accepts/rejects the order based on if items are avilable\n",
    "# 3. after some time, a deli exec gets assigned\n",
    "# 4. once the order is prepared, deli exec picks up the order and starts out for the user's address\n",
    "#5. deli exec delivers the order\n",
    "# right now, we concerned with 1-3 since 4 and 5 can vary highly depending on user address and restrau location"
   ]
  },
  {
   "cell_type": "markdown",
   "metadata": {},
   "source": [
    "Having ordered from both Zomato and Swiggy countless times, I can rely on my personal experience to estimate the average time it takes for a delivery person to get assigned. "
   ]
  },
  {
   "cell_type": "code",
   "execution_count": 4,
   "metadata": {},
   "outputs": [],
   "source": [
    "class DeliveryService(object):\n",
    "    def __init__(self, env, num_delivery_execs):\n",
    "        self.env = env\n",
    "        # num_delivery_execs = maximum number of execs available\n",
    "        self.delivery_execs = simpy.Resource(env, num_delivery_execs)\n",
    "        # in future, we can add self.restrau\n",
    "    \n",
    "    def assign_exec(self, restr):\n",
    "        # Times out after a random \n",
    "        # an order must be there to get an exec assigned to!\n",
    "        yield self.env.timeout(random.randint(3,5))\n",
    "    \n",
    "    def reach_restaurant(self, restr):\n",
    "        yield self.env.timeout(random.randint(10,15))\n",
    "    \n",
    "    def deliver_order(self, restr, delivery_exec):\n",
    "        yield self.env.timeout(random.randint(15,20))\n",
    "    \n",
    "class Restaurant(object):\n",
    "    def __init__(self, env, num_employees):\n",
    "        self.env = env\n",
    "        self.employees = simpy.Resource(env, num_employees)\n",
    "    \n",
    "    def prepare_order(self):\n",
    "        yield self.env.timeout(random.randint(20,25))\n",
    "        \n",
    "    def handover_to_exec(self, deliveryExec):\n",
    "        # assuming exec has already reched the restaurant\n",
    "        yield self.env.timeout(random.randint(1,2))\n",
    "\n",
    "def place_order(env, deliveryService, restaurant):\n",
    "    # Order arrives\n",
    "    order_time = env.now\n",
    "    \n",
    "    # Request for a delivery exec\n",
    "    with deliveryService.delivery_execs.request() as exec_request:\n",
    "        #wait for order to be accepted\n",
    "        yield exec_request\n",
    "        #wait for exec being assigned\n",
    "        yield env.process(deliveryService.assign_exec(restaurant))\n",
    "        #using 'with' frees up the resources at the end of this logic\n",
    "        #restaurant prepares the order\n",
    "        with restaurant.employees.request() as staff_request:\n",
    "            yield staff_request\n",
    "            yield env.process(restaurant.prepare_order())\n",
    "            yield env.process(deliveryService.reach_restaurant(restaurant))\n",
    "            yield env.process(restaurant.handover_to_exec(exec_request))\n",
    "        yield env.process(deliveryService.deliver_order(exec_request))\n",
    "    \n",
    "    wait_times.append(env.now - order_time)"
   ]
  },
  {
   "cell_type": "code",
   "execution_count": 5,
   "metadata": {},
   "outputs": [],
   "source": [
    "def run_simulation(env, num_delivery_execs, restr_num_employees, restr_num_orders):\n",
    "    restaurants = []\n",
    "    deliveryService = DeliveryService(env, num_delivery_execs)\n",
    "    \n",
    "    # for each restaurant registered with the service, initialize a REstaurant object\n",
    "    for restr in restr_num_employees:\n",
    "        restaurants.append(Restaurant(env, restr_num_employees.get(restr)))\n",
    "    \n",
    "    # orders to start with\n",
    "    for restr in restaurants:\n",
    "        env.process(place_order(env, deliveryService, restr))\n",
    "        \n",
    "    # one extra order to a random restaurant every minute\n",
    "    while True:\n",
    "        ind = random.randint(0, len(restaurants)-1)\n",
    "        restr = restaurants[ind]\n",
    "        yield env.timeout(1) # based on data/experience/information\n",
    "        env.process(place_order(env, deliveryService, restr)) # include order as a number"
   ]
  },
  {
   "cell_type": "code",
   "execution_count": 6,
   "metadata": {},
   "outputs": [],
   "source": [
    "def get_average_wait_time(wait_times):\n",
    "    average_time = statistics.mean(wait_times)\n",
    "    #Pretty printing the results\n",
    "    minutes, fraction_minutes = divmod(average_time, 1)\n",
    "    sec = fraction_minutes * 60\n",
    "    return round(minutes), round(sec)"
   ]
  },
  {
   "cell_type": "code",
   "execution_count": 7,
   "metadata": {},
   "outputs": [],
   "source": [
    "# Get the count inputs from user. Ex: the delivery service CEO!\n",
    "def get_count_inputs():\n",
    "    restr_num_orders = {}\n",
    "    restr_num_employees = {}\n",
    "    try:\n",
    "        time = int(input('Input number of minutes to run the simulation for: '))\n",
    "        num_delivery_execs = int(input('Input number of delivery executives you have: '))\n",
    "        number_of_restaurants = int(input('Input number of restaurants registered: '))\n",
    "        while(number_of_restaurants):\n",
    "            restr_name = input('Input name of restaurant: ')\n",
    "            restr_orders = int(input('Input number of orders waiting at this restaurant at the beginning: '))\n",
    "            restr_employees = int(input('Input number of employees working here for preparing orders: '))\n",
    "            restr_num_orders[restr_name] = restr_orders\n",
    "            restr_num_employees[restr_name] = restr_employees\n",
    "            number_of_restaurants -= 1\n",
    "    except ValueError as e:\n",
    "        get_count_inputs()\n",
    "    return (num_delivery_execs, restr_num_employees, restr_num_orders, time)"
   ]
  },
  {
   "cell_type": "code",
   "execution_count": 8,
   "metadata": {},
   "outputs": [
    {
     "name": "stdout",
     "output_type": "stream",
     "text": [
      "Input number of minutes to run the simulation for: 5\n",
      "Input number of delivery executives you have: 2\n",
      "Input number of restaurants registered: 1\n",
      "Input name of restaurant: wera\n",
      "Input number of orders waiting at this restaurant at the beginning: 1\n",
      "Input number of employees working here for preparing orders: 2\n"
     ]
    },
    {
     "ename": "StatisticsError",
     "evalue": "mean requires at least one data point",
     "output_type": "error",
     "traceback": [
      "\u001b[0;31m---------------------------------------------------------------------------\u001b[0m",
      "\u001b[0;31mStatisticsError\u001b[0m                           Traceback (most recent call last)",
      "\u001b[0;32m<ipython-input-8-8d45ead0ffe7>\u001b[0m in \u001b[0;36m<module>\u001b[0;34m\u001b[0m\n\u001b[1;32m     14\u001b[0m \u001b[0;34m\u001b[0m\u001b[0m\n\u001b[1;32m     15\u001b[0m \u001b[0;32mif\u001b[0m \u001b[0m__name__\u001b[0m \u001b[0;34m==\u001b[0m \u001b[0;34m'__main__'\u001b[0m\u001b[0;34m:\u001b[0m\u001b[0;34m\u001b[0m\u001b[0m\n\u001b[0;32m---> 16\u001b[0;31m     \u001b[0mmain\u001b[0m\u001b[0;34m(\u001b[0m\u001b[0;34m)\u001b[0m\u001b[0;34m\u001b[0m\u001b[0m\n\u001b[0m",
      "\u001b[0;32m<ipython-input-8-8d45ead0ffe7>\u001b[0m in \u001b[0;36mmain\u001b[0;34m()\u001b[0m\n\u001b[1;32m     10\u001b[0m \u001b[0;34m\u001b[0m\u001b[0m\n\u001b[1;32m     11\u001b[0m     \u001b[0;31m# View the results\u001b[0m\u001b[0;34m\u001b[0m\u001b[0;34m\u001b[0m\u001b[0m\n\u001b[0;32m---> 12\u001b[0;31m     \u001b[0mmins\u001b[0m\u001b[0;34m,\u001b[0m \u001b[0msecs\u001b[0m \u001b[0;34m=\u001b[0m \u001b[0mget_average_wait_time\u001b[0m\u001b[0;34m(\u001b[0m\u001b[0mwait_times\u001b[0m\u001b[0;34m)\u001b[0m\u001b[0;34m\u001b[0m\u001b[0m\n\u001b[0m\u001b[1;32m     13\u001b[0m     \u001b[0mprint\u001b[0m\u001b[0;34m(\u001b[0m\u001b[0;34mf'Ran simulation; Average wait time is: {mins} minutes {secs} seconds'\u001b[0m\u001b[0;34m)\u001b[0m\u001b[0;34m\u001b[0m\u001b[0m\n\u001b[1;32m     14\u001b[0m \u001b[0;34m\u001b[0m\u001b[0m\n",
      "\u001b[0;32m<ipython-input-6-9513d312518a>\u001b[0m in \u001b[0;36mget_average_wait_time\u001b[0;34m(wait_times)\u001b[0m\n\u001b[1;32m      1\u001b[0m \u001b[0;32mdef\u001b[0m \u001b[0mget_average_wait_time\u001b[0m\u001b[0;34m(\u001b[0m\u001b[0mwait_times\u001b[0m\u001b[0;34m)\u001b[0m\u001b[0;34m:\u001b[0m\u001b[0;34m\u001b[0m\u001b[0m\n\u001b[0;32m----> 2\u001b[0;31m     \u001b[0maverage_time\u001b[0m \u001b[0;34m=\u001b[0m \u001b[0mstatistics\u001b[0m\u001b[0;34m.\u001b[0m\u001b[0mmean\u001b[0m\u001b[0;34m(\u001b[0m\u001b[0mwait_times\u001b[0m\u001b[0;34m)\u001b[0m\u001b[0;34m\u001b[0m\u001b[0m\n\u001b[0m\u001b[1;32m      3\u001b[0m     \u001b[0;31m#Pretty printing the results\u001b[0m\u001b[0;34m\u001b[0m\u001b[0;34m\u001b[0m\u001b[0m\n\u001b[1;32m      4\u001b[0m     \u001b[0mminutes\u001b[0m\u001b[0;34m,\u001b[0m \u001b[0mfraction_minutes\u001b[0m \u001b[0;34m=\u001b[0m \u001b[0mdivmod\u001b[0m\u001b[0;34m(\u001b[0m\u001b[0maverage_time\u001b[0m\u001b[0;34m,\u001b[0m \u001b[0;36m1\u001b[0m\u001b[0;34m)\u001b[0m\u001b[0;34m\u001b[0m\u001b[0m\n\u001b[1;32m      5\u001b[0m     \u001b[0msec\u001b[0m \u001b[0;34m=\u001b[0m \u001b[0mfraction_minutes\u001b[0m \u001b[0;34m*\u001b[0m \u001b[0;36m60\u001b[0m\u001b[0;34m\u001b[0m\u001b[0m\n",
      "\u001b[0;32m~/.pyenv/versions/3.7.0/lib/python3.7/statistics.py\u001b[0m in \u001b[0;36mmean\u001b[0;34m(data)\u001b[0m\n\u001b[1;32m    308\u001b[0m     \u001b[0mn\u001b[0m \u001b[0;34m=\u001b[0m \u001b[0mlen\u001b[0m\u001b[0;34m(\u001b[0m\u001b[0mdata\u001b[0m\u001b[0;34m)\u001b[0m\u001b[0;34m\u001b[0m\u001b[0m\n\u001b[1;32m    309\u001b[0m     \u001b[0;32mif\u001b[0m \u001b[0mn\u001b[0m \u001b[0;34m<\u001b[0m \u001b[0;36m1\u001b[0m\u001b[0;34m:\u001b[0m\u001b[0;34m\u001b[0m\u001b[0m\n\u001b[0;32m--> 310\u001b[0;31m         \u001b[0;32mraise\u001b[0m \u001b[0mStatisticsError\u001b[0m\u001b[0;34m(\u001b[0m\u001b[0;34m'mean requires at least one data point'\u001b[0m\u001b[0;34m)\u001b[0m\u001b[0;34m\u001b[0m\u001b[0m\n\u001b[0m\u001b[1;32m    311\u001b[0m     \u001b[0mT\u001b[0m\u001b[0;34m,\u001b[0m \u001b[0mtotal\u001b[0m\u001b[0;34m,\u001b[0m \u001b[0mcount\u001b[0m \u001b[0;34m=\u001b[0m \u001b[0m_sum\u001b[0m\u001b[0;34m(\u001b[0m\u001b[0mdata\u001b[0m\u001b[0;34m)\u001b[0m\u001b[0;34m\u001b[0m\u001b[0m\n\u001b[1;32m    312\u001b[0m     \u001b[0;32massert\u001b[0m \u001b[0mcount\u001b[0m \u001b[0;34m==\u001b[0m \u001b[0mn\u001b[0m\u001b[0;34m\u001b[0m\u001b[0m\n",
      "\u001b[0;31mStatisticsError\u001b[0m: mean requires at least one data point"
     ]
    }
   ],
   "source": [
    "def main():\n",
    "    random.seed(100)\n",
    "    num_delivery_execs, restr_num_employees, restr_num_orders, time = get_count_inputs()\n",
    "    \n",
    "    # Run the simulation\n",
    "    env = simpy.Environment()\n",
    "    env.process(run_simulation(env, num_delivery_execs, restr_num_employees, restr_num_orders))\n",
    "    # Run for these many minutes\n",
    "    env.run(until=time)\n",
    "    \n",
    "    # View the results\n",
    "    mins, secs = get_average_wait_time(wait_times)\n",
    "    print(f'Ran simulation; Average wait time is: {mins} minutes {secs} seconds')\n",
    "    \n",
    "if __name__ == '__main__':\n",
    "    main()"
   ]
  }
 ],
 "metadata": {
  "kernelspec": {
   "display_name": "simpy_venv",
   "language": "python",
   "name": "simpy_venv"
  },
  "language_info": {
   "codemirror_mode": {
    "name": "ipython",
    "version": 3
   },
   "file_extension": ".py",
   "mimetype": "text/x-python",
   "name": "python",
   "nbconvert_exporter": "python",
   "pygments_lexer": "ipython3",
   "version": "3.7.0"
  }
 },
 "nbformat": 4,
 "nbformat_minor": 4
}
